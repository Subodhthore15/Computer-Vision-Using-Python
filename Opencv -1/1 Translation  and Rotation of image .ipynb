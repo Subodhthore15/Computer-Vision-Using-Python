
  },
  {
   "cell_type": "code",
   "execution_count": 1,
   "metadata": {},
   "outputs": [],
   "source": [
    "import cv2\n",
    "import numpy as np"
   ]
  },
  {
   "cell_type": "code",
   "execution_count": 10,
   "metadata": {},
   "outputs": [],
   "source": [
    "img=cv2.imread('input.jpg')\n",
    "\n",
    "h,w=img.shape[0:2]\n",
    "\n",
    "qu_h ,qu_w = h/4 , w/4\n",
    "\n",
    "T = np.float32([[1, 0, qu_w],\n",
    "                [0, 1, qu_h]])\n"
   ]
  },
  {
   "cell_type": "code",
   "execution_count": 14,
   "metadata": {},
   "outputs": [],
   "source": [
    "traslation=cv2.warpAffine(img,T,(w,h))\n",
    "cv2.imshow('tr',traslation)\n",
    "cv2.waitKey() # wait for any keys to be pressed \n",
    "cv2.destroyAllWindows()"
   ]
  },
  {
   "cell_type": "markdown",
   "metadata": {},
   "source": [
    "# Rotation of image"
   ]
  },
  {
   "cell_type": "code",
   "execution_count": 16,
   "metadata": {},
   "outputs": [],
   "source": [
    "M = cv2.getRotationMatrix2D((w/2,h/2),30,0.5)\n",
    "rotaion_img = cv2.warpAffine(src=img, M=M, dsize=(w,h))  # dsize original ch dhyav lagt\n",
    "\n",
    "cv2.imshow('rotation',rotaion_img)\n",
    "cv2.waitKey(10000)\n",
    "cv2.destroyAllWindows()"
   ]
  },
  {
   "cell_type": "code",
   "execution_count": 19,
   "metadata": {},
   "outputs": [],
   "source": [
    "img3=cv2.resize(src=img, dsize = None,fx=0.5,fy=0.5)\n",
    "cv2.imshow('img3',img3)\n",
    "cv2.waitKey()\n",
    "cv2.destroyAllWindows()"
   ]
  },
  {
   "cell_type": "code",
   "execution_count": 25,
   "metadata": {},
   "outputs": [],
   "source": [
    "H,W=img3.shape[0:2]"
   ]
  },
  {
   "cell_type": "code",
   "execution_count": 26,
   "metadata": {},
   "outputs": [],
   "source": [
    "M = cv2.getRotationMatrix2D((W/2,H/2),30,0.5)\n",
    "rotaion_img = cv2.warpAffine(src=img3, M=M, dsize=(W,H))  # dsize original ch dhyav lagt\n",
    "\n",
    "cv2.imshow('rotation',rotaion_img)\n",
    "cv2.waitKey(10000)\n",
    "cv2.destroyAllWindows()"
   ]
  },
  {
   "cell_type": "code",
   "execution_count": 30,
   "metadata": {},
   "outputs": [],
   "source": [
    "# cv2.pyrDown and cv2.pyrUp"
   ]
  },
  {
   "cell_type": "code",
   "execution_count": null,
   "metadata": {},
   "outputs": [],
   "source": [
    "import cv2\n",
    "import numpy as np\n",
    "import time\n",
    "\n",
    "\n",
    "def main():\n",
    "    cap=cv2.VideoCapture(0)\n",
    "    \n",
    "    cv2.namedWindow('animation_camera')\n",
    "    \n",
    "    \n",
    "    if cap.isOpened():\n",
    "        \n",
    "        ret,frame=cap.read()\n",
    "        \n",
    "    else:\n",
    "        ret=False\n",
    "        \n",
    "    rows,columns,channels=frame.shape\n",
    "    \n",
    "    angle=0\n",
    "    scale=0.1\n",
    "    while True:\n",
    "        \n",
    "        ret,frame=cap.read()\n",
    "        \n",
    "        if scale < 2:\n",
    "            scale=scale+0.1\n",
    "        if scale >= 2:\n",
    "            scale=0.1\n",
    "            \n",
    "        R=cv2.getRotationMatrix2D((columns/2,rows/2),angle,scale)\n",
    "        \n",
    "        output= cv2.warpAffine (frame, R , (columns,rows))\n",
    "        \n",
    "        cv2.imshow('animation_camera',output)\n",
    "        \n",
    "        \n",
    "        \n",
    "        time.sleep(0.01)\n",
    "        \n",
    "        if cv2.waitKey(1)==ord('s'):\n",
    "            break\n",
    "    cv2.destroyAllWindows()\n",
    "    cap.release()\n",
    "        \n",
    "main()        "
   ]
  }
 ],
 "metadata": {
  "kernelspec": {
   "display_name": "Python 3",
   "language": "python",
   "name": "python3"
  },
  "language_info": {
   "codemirror_mode": {
    "name": "ipython",
    "version": 3
   },
   "file_extension": ".py",
   "mimetype": "text/x-python",
   "name": "python",
   "nbconvert_exporter": "python",
   "pygments_lexer": "ipython3",
   "version": "3.7.6"
  }
 },
 "nbformat": 4,
 "nbformat_minor": 4
}
